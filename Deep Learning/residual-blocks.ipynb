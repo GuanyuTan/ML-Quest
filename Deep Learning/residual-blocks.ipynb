{
 "cells": [
  {
   "attachments": {
    "image.png": {
     "image/png": "[encoded data removed]"
    }
   },
   "cell_type": "markdown",
   "metadata": {},
   "source": [
    "Residual Blocks \n",
    "\n",
    "In theory, as the complexity of a problem/mapping increases, a relatively deeper/more complex neural network model is required to have a better performance. But in reality deep neural networks suffer from **degradation**, which is a term referring accuracy saturation followed by sudden degradation(sharp drop). This sharp drop is not caused by overfitting. \n",
    "\n",
    "The paper also shows that given two architectures that only defer by depth, and the difference is only compensated by adding identity layers, which supposedly leads to the deeper model should perform, if not better, on par with its shallow counterpart. However in reality, the shallow counterpart produces lower training error than the deeper model.\n",
    "\n",
    "Residual blocks are introduced to counter degradation. Intuition here is that the initial signal is lost due to multiple activations through multiple layers. The straighforward thing to do is to introduce something called a skip connection. \n",
    "\n",
    "![image.png](attachment:image.png)"
   ]
  },
  {
   "cell_type": "code",
   "execution_count": 1,
   "metadata": {},
   "outputs": [],
   "source": [
    "import torch\n",
    "import numpy as np\n",
    "import torch.nn as nn\n",
    "from torchvision.datasets import MNIST\n",
    "from typing import List \n",
    "from torchvision.transforms import ToTensor "
   ]
  },
  {
   "cell_type": "code",
   "execution_count": 2,
   "metadata": {},
   "outputs": [],
   "source": [
    "# Use conv3x3 to compute output\n",
    "def conv3x3(in_channels, out_channels, kernel_size=3, stride=1):\n",
    "    return nn.Conv2d(\n",
    "        in_channels=in_channels,\n",
    "        out_channels= out_channels,\n",
    "        kernel_size= kernel_size,\n",
    "        stride=stride,\n",
    "        padding=1\n",
    "    )\n",
    "\n",
    "class ResBlock(nn.Module):\n",
    "    def __init__(self,\n",
    "                 in_channels,\n",
    "                 out_channels,\n",
    "                 stride=1\n",
    "                 ) -> None:\n",
    "        super(ResBlock, self).__init__()\n",
    "        self.conv_1 = conv3x3(in_channels=in_channels, out_channels=out_channels, stride=stride)\n",
    "        self.bn_1 = nn.BatchNorm2d(out_channels)\n",
    "        self.relu = nn.ReLU(inplace=True)\n",
    "        self.conv_2 = conv3x3(in_channels=out_channels, out_channels=out_channels)\n",
    "        self.downsample = None\n",
    "        if stride != 1 or in_channels!=out_channels:\n",
    "            self.downsample = nn.Conv2d(in_channels=in_channels, out_channels=out_channels, kernel_size=1, stride=stride)\n",
    "        self.bn_2 = nn.BatchNorm2d(out_channels)\n",
    "    \n",
    "    def forward(self, x):\n",
    "        identity = x\n",
    "        out = self.conv_1(x)\n",
    "        out = self.bn_1(out)\n",
    "        out = self.relu(out)\n",
    "        \n",
    "        out = self.conv_2(out)\n",
    "        out = self.bn_2(out)\n",
    "        \n",
    "        if self.downsample:\n",
    "            identity = self.downsample(x)\n",
    "\n",
    "        out += identity\n",
    "        out = self.relu(out)\n",
    "        return out\n",
    "    \n",
    "class ResNet(nn.Module):\n",
    "    def __init__(self,\n",
    "                 num_classes=10\n",
    "                 ) -> None:\n",
    "        super(ResNet, self).__init__()\n",
    "        self.layer1 = ResBlock(in_channels=1, out_channels=32)\n",
    "        self.layer2 = ResBlock(in_channels=32, out_channels=64)\n",
    "        self.layer3 = ResBlock(in_channels=64, out_channels=128, stride=2)\n",
    "        self.relu = nn.ReLU(inplace=True)\n",
    "        self.avgpool = nn.AdaptiveAvgPool2d((1,1))\n",
    "        self.fc = nn.Linear(in_features=128, out_features=num_classes)\n",
    "        \n",
    "    def forward(self, x):\n",
    "        x = self.layer1(x)\n",
    "        x = self.layer2(x)\n",
    "        x = self.layer3(x)\n",
    "        x = self.avgpool(x)\n",
    "        x = torch.flatten(x,1)\n",
    "        x = self.fc(x)\n",
    "        return x"
   ]
  },
  {
   "cell_type": "code",
   "execution_count": 18,
   "metadata": {},
   "outputs": [],
   "source": [
    "train_dataset = MNIST(\"../Deep Learning/MNIST\", \n",
    "                      download=True, \n",
    "                      train=True,\n",
    "                      transform=ToTensor()\n",
    "                      )\n",
    "test_dataset = MNIST(\"../Deep Learning/MNIST\",\n",
    "                     download=True, \n",
    "                     train=False,\n",
    "                     transform=ToTensor(),)"
   ]
  },
  {
   "cell_type": "code",
   "execution_count": 19,
   "metadata": {},
   "outputs": [],
   "source": [
    "from torch.utils.data import DataLoader\n",
    "train_dataloader = DataLoader(train_dataset, batch_size=2048)\n",
    "test_dataloader = DataLoader(test_dataset, batch_size=2048)"
   ]
  },
  {
   "cell_type": "code",
   "execution_count": null,
   "metadata": {},
   "outputs": [],
   "source": [
    "train_dataloader"
   ]
  },
  {
   "cell_type": "code",
   "execution_count": 9,
   "metadata": {},
   "outputs": [],
   "source": [
    "def train(dataloader, model, config, device):\n",
    "    model.train()\n",
    "    epochs= config[\"epochs\"]\n",
    "    lr = config[\"lr\"]\n",
    "    loss_fn = config[\"loss_function\"]\n",
    "    optim = torch.optim.Adam(model.parameters())\n",
    "    for e in range(1,epochs+1):\n",
    "        running_loss = []\n",
    "        for batch, data in enumerate(dataloader):\n",
    "            X, y = data\n",
    "            X = X.to(device)\n",
    "            y = y.to(device)\n",
    "            pred = model(X)\n",
    "            loss = loss_fn(pred, y)\n",
    "            loss.backward()\n",
    "            running_loss.append(loss.item())\n",
    "            optim.step()\n",
    "            optim.zero_grad()\n",
    "        print(f'Epoch {e}: {np.mean(running_loss)}')"
   ]
  },
  {
   "cell_type": "code",
   "execution_count": 10,
   "metadata": {},
   "outputs": [
    {
     "data": {
      "text/plain": [
       "ResNet(\n",
       "  (layer1): ResBlock(\n",
       "    (conv_1): Conv2d(1, 32, kernel_size=(3, 3), stride=(1, 1), padding=(1, 1))\n",
       "    (bn_1): BatchNorm2d(32, eps=1e-05, momentum=0.1, affine=True, track_running_stats=True)\n",
       "    (relu): ReLU(inplace=True)\n",
       "    (conv_2): Conv2d(32, 32, kernel_size=(3, 3), stride=(1, 1), padding=(1, 1))\n",
       "    (downsample): Conv2d(1, 32, kernel_size=(1, 1), stride=(1, 1))\n",
       "    (bn_2): BatchNorm2d(32, eps=1e-05, momentum=0.1, affine=True, track_running_stats=True)\n",
       "  )\n",
       "  (layer2): ResBlock(\n",
       "    (conv_1): Conv2d(32, 64, kernel_size=(3, 3), stride=(1, 1), padding=(1, 1))\n",
       "    (bn_1): BatchNorm2d(64, eps=1e-05, momentum=0.1, affine=True, track_running_stats=True)\n",
       "    (relu): ReLU(inplace=True)\n",
       "    (conv_2): Conv2d(64, 64, kernel_size=(3, 3), stride=(1, 1), padding=(1, 1))\n",
       "    (downsample): Conv2d(32, 64, kernel_size=(1, 1), stride=(1, 1))\n",
       "    (bn_2): BatchNorm2d(64, eps=1e-05, momentum=0.1, affine=True, track_running_stats=True)\n",
       "  )\n",
       "  (layer3): ResBlock(\n",
       "    (conv_1): Conv2d(64, 128, kernel_size=(3, 3), stride=(2, 2), padding=(1, 1))\n",
       "    (bn_1): BatchNorm2d(128, eps=1e-05, momentum=0.1, affine=True, track_running_stats=True)\n",
       "    (relu): ReLU(inplace=True)\n",
       "    (conv_2): Conv2d(128, 128, kernel_size=(3, 3), stride=(1, 1), padding=(1, 1))\n",
       "    (downsample): Conv2d(64, 128, kernel_size=(1, 1), stride=(2, 2))\n",
       "    (bn_2): BatchNorm2d(128, eps=1e-05, momentum=0.1, affine=True, track_running_stats=True)\n",
       "  )\n",
       "  (relu): ReLU(inplace=True)\n",
       "  (avgpool): AdaptiveAvgPool2d(output_size=(1, 1))\n",
       "  (fc): Linear(in_features=128, out_features=10, bias=True)\n",
       ")"
      ]
     },
     "execution_count": 10,
     "metadata": {},
     "output_type": "execute_result"
    }
   ],
   "source": [
    "config = {\n",
    "    \"epochs\": 60,\n",
    "    \"lr\": 0.001,\n",
    "    \"loss_function\": nn.CrossEntropyLoss(),\n",
    "}\n",
    "model = ResNet()\n",
    "device = \"cuda\" if torch.cuda.is_available() else \"cpu\"\n",
    "model.to(device=device)"
   ]
  },
  {
   "cell_type": "code",
   "execution_count": 11,
   "metadata": {},
   "outputs": [
    {
     "name": "stderr",
     "output_type": "stream",
     "text": [
      "/home/jawstan/ML-Quest/.venv/lib/python3.9/site-packages/torch/nn/modules/conv.py:456: UserWarning: Applied workaround for CuDNN issue, install nvrtc.so (Triggered internally at ../aten/src/ATen/native/cudnn/Conv_v8.cpp:80.)\n",
      "  return F.conv2d(input, weight, bias, self.stride,\n"
     ]
    },
    {
     "name": "stdout",
     "output_type": "stream",
     "text": [
      "Epoch 1: 1.4725398500760396\n",
      "Epoch 2: 0.4364956850806872\n",
      "Epoch 3: 0.1837036023537318\n",
      "Epoch 4: 0.12308022851745287\n",
      "Epoch 5: 0.09384108905990919\n",
      "Epoch 6: 0.07807394402722517\n",
      "Epoch 7: 0.0656095369408528\n",
      "Epoch 8: 0.05598523455361525\n",
      "Epoch 9: 0.04930189289152622\n",
      "Epoch 10: 0.04388616308569908\n",
      "Epoch 11: 0.03953733413169781\n",
      "Epoch 12: 0.03671464584767818\n",
      "Epoch 13: 0.03291646211097638\n",
      "Epoch 14: 0.028165608644485474\n",
      "Epoch 15: 0.025787785028417904\n",
      "Epoch 16: 0.02341541132579247\n",
      "Epoch 17: 0.02153107300400734\n",
      "Epoch 18: 0.019973794370889662\n",
      "Epoch 19: 0.019059162586927414\n",
      "Epoch 20: 0.01802463975424568\n",
      "Epoch 21: 0.01682065650820732\n",
      "Epoch 22: 0.014965151405582825\n",
      "Epoch 23: 0.013642017139742772\n",
      "Epoch 24: 0.011982920424391827\n",
      "Epoch 25: 0.010607702269529303\n",
      "Epoch 26: 0.009804818391179046\n",
      "Epoch 27: 0.009004234227662285\n",
      "Epoch 28: 0.008991850695262352\n",
      "Epoch 29: 0.008346164242054026\n",
      "Epoch 30: 0.007895179682721694\n",
      "Epoch 31: 0.007889130618423223\n",
      "Epoch 32: 0.007896597807606062\n",
      "Epoch 33: 0.007784108072519303\n",
      "Epoch 34: 0.00774805877978603\n",
      "Epoch 35: 0.0067673355108127\n",
      "Epoch 36: 0.006092399816649655\n",
      "Epoch 37: 0.0050281722797080874\n",
      "Epoch 38: 0.003842753816085557\n",
      "Epoch 39: 0.00373389144660905\n",
      "Epoch 40: 0.002976351751325031\n",
      "Epoch 41: 0.0024403059273026884\n",
      "Epoch 42: 0.002296799774436901\n",
      "Epoch 43: 0.002295916269455726\n",
      "Epoch 44: 0.0019110900660355885\n",
      "Epoch 45: 0.0015881310993184647\n",
      "Epoch 46: 0.0014740844684032102\n",
      "Epoch 47: 0.0014279810498313357\n",
      "Epoch 48: 0.0013640024854491154\n",
      "Epoch 49: 0.001311055599944666\n",
      "Epoch 50: 0.001269195859398072\n",
      "Epoch 51: 0.0012271866338172306\n",
      "Epoch 52: 0.0011883346325096986\n",
      "Epoch 53: 0.0011464759959684064\n",
      "Epoch 54: 0.001103735492991594\n",
      "Epoch 55: 0.0010696005716454237\n",
      "Epoch 56: 0.0010344713159914439\n",
      "Epoch 57: 0.0009964465018128977\n",
      "Epoch 58: 0.0009682211287630101\n",
      "Epoch 59: 0.0009355419781059027\n",
      "Epoch 60: 0.0008815839003849154\n"
     ]
    }
   ],
   "source": [
    "train(dataloader=train_dataloader,config=config,model=model, device=device)"
   ]
  },
  {
   "cell_type": "code",
   "execution_count": 13,
   "metadata": {},
   "outputs": [],
   "source": [
    "from sklearn.metrics import classification_report\n",
    "def test(dataloader, model, config, device):\n",
    "    model.eval()\n",
    "    epochs= config[\"epochs\"]\n",
    "    for e in range(1,epochs+1):\n",
    "        predictions = []\n",
    "        ground_truth = []\n",
    "        with torch.no_grad():\n",
    "            for batch, data in enumerate(dataloader):\n",
    "                X, y = data\n",
    "                X = X.to(device)\n",
    "                pred = model(X)\n",
    "                pred = torch.argmax(pred,1)\n",
    "                [predictions.append(x) for x in pred.cpu().numpy()]\n",
    "                [ground_truth.append(x) for x in y.numpy()]\n",
    "    print(classification_report(ground_truth, predictions))    "
   ]
  },
  {
   "cell_type": "code",
   "execution_count": 20,
   "metadata": {},
   "outputs": [
    {
     "name": "stdout",
     "output_type": "stream",
     "text": [
      "              precision    recall  f1-score   support\n",
      "\n",
      "           0       0.99      0.99      0.99       980\n",
      "           1       1.00      0.99      0.99      1135\n",
      "           2       1.00      0.99      0.99      1032\n",
      "           3       1.00      1.00      1.00      1010\n",
      "           4       0.98      1.00      0.99       982\n",
      "           5       0.99      0.99      0.99       892\n",
      "           6       1.00      0.99      0.99       958\n",
      "           7       1.00      0.99      0.99      1028\n",
      "           8       0.98      1.00      0.99       974\n",
      "           9       1.00      0.99      0.99      1009\n",
      "\n",
      "    accuracy                           0.99     10000\n",
      "   macro avg       0.99      0.99      0.99     10000\n",
      "weighted avg       0.99      0.99      0.99     10000\n",
      "\n"
     ]
    }
   ],
   "source": [
    "test(dataloader=test_dataloader,config=config,model=model, device=device)"
   ]
  }
 ],
 "metadata": {
  "kernelspec": {
   "display_name": ".venv",
   "language": "python",
   "name": "python3"
  },
  "language_info": {
   "codemirror_mode": {
    "name": "ipython",
    "version": 3
   },
   "file_extension": ".py",
   "mimetype": "text/x-python",
   "name": "python",
   "nbconvert_exporter": "python",
   "pygments_lexer": "ipython3",
   "version": "3.9.18"
  }
 },
 "nbformat": 4,
 "nbformat_minor": 2
}
