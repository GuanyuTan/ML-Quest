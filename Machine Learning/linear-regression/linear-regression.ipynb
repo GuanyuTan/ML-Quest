{
 "cells": [
  {
   "cell_type": "markdown",
   "metadata": {},
   "source": [
    "# Regression\n",
    "\n",
    "[LECTURE NOTES HERE](https://www.cs.cornell.edu/courses/cs4780/2018fa/lectures/lecturenote08.html)\n",
    "\n",
    "Given real valued input vector $\\vec{x}$, predict real valued output $y$.\n",
    "\n",
    "## Assumptions\n",
    "\n",
    "1. Each data point $\\vec{x}$ is linearly correlated with each output $y$.\n",
    "2. Observations are noisy. For each $\\vec{x}$ are i.i.d drawn from its respective Gaussian distribution centered on a point on the linear regression line, or formally:\n",
    "    \n",
    "    $y_i = w^Tx_i+\\epsilon_i$, $\\epsilon_i\\backsim \\mathcal{N}(0, \\sigma)$\n",
    "    or\n",
    "    \n",
    "    $y_i \\backsim \\mathcal{N}(w^Tx_i, \\sigma)$"
   ]
  },
  {
   "cell_type": "markdown",
   "metadata": {},
   "source": []
  },
  {
   "cell_type": "code",
   "execution_count": 1,
   "metadata": {},
   "outputs": [],
   "source": [
    "from sklearn.datasets import load_diabetes\n",
    "from sklearn.model_selection import train_test_split\n",
    "\n",
    "data = load_diabetes()\n",
    "x = data['data']\n",
    "y = data['target']\n",
    "x_train, x_test, y_train, y_test = train_test_split(x, y, test_size=0.2, train_size=0.8)"
   ]
  },
  {
   "cell_type": "code",
   "execution_count": null,
   "metadata": {},
   "outputs": [],
   "source": []
  }
 ],
 "metadata": {
  "kernelspec": {
   "display_name": ".venv",
   "language": "python",
   "name": "python3"
  },
  "language_info": {
   "codemirror_mode": {
    "name": "ipython",
    "version": 3
   },
   "file_extension": ".py",
   "mimetype": "text/x-python",
   "name": "python",
   "nbconvert_exporter": "python",
   "pygments_lexer": "ipython3",
   "version": "3.9.18"
  }
 },
 "nbformat": 4,
 "nbformat_minor": 2
}
