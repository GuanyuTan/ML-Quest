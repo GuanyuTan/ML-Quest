{
 "cells": [
  {
   "cell_type": "markdown",
   "metadata": {},
   "source": [
    "## Maximum Likelihood Estimation (MLE-Frquentist)\n",
    "\n",
    "Let's say we have a distribution given some data and some parameters. Given that some data is observed, which parameters are most likely giving us what we are observing?\n",
    "\n",
    "We are interested in finding the parameters that make the data the most likely to exist.\n",
    "\n",
    "$\\theta = argmax_{\\theta}(P(D;\\theta))$\n",
    "\n",
    "We solve this maximization problem by:\n",
    "1. Getting the log of the probability(likelihood) after we plug in the terms for the distribution\n",
    "2. Get maxima by computing the derivative and equating it into zero.\n",
    "\n",
    "Drawbacks:\n",
    "1. MLE can overfit data if n is small. \n",
    "2. Assumption of the model is wrong, MLE can be very wrong as well.\n",
    "\n",
    "## Maximum a Posteriori Probability Estimation (MAP-Bayesian)\n",
    "\n",
    "$\\theta = argmax_{\\theta}(P(\\theta|D))$"
   ]
  },
  {
   "attachments": {
    "image-2.png": {
     "image/png": "[encoded data removed]"
    },
    "image.png": {
     "image/png": "[encoded data removed]"
    }
   },
   "cell_type": "markdown",
   "metadata": {},
   "source": [
    "## Naive-Bayes\n",
    "\n",
    "Original Task: predict P(y|x). Tackle it by taking Bayes' Rule of P(y|x)\n",
    "\n",
    "![image-2.png](attachment:image-2.png)\n",
    "\n",
    "Assumption: Features are independent of each other given the labels.\n",
    "\n",
    "![image.png](attachment:image.png)\n",
    "\n",
    "Since features are independent of each other, we can compute individual probabilities of x's given class y, and take the product of it. \n",
    "\n",
    "Since\n",
    "\n",
    "$P(y|x) \\propto P(x|y)P(y)$\n",
    "\n",
    "We can just compute $P(x|y)P(y)$ and ignore the denominator. Largely because computing P(x) is troublesome."
   ]
  },
  {
   "cell_type": "code",
   "execution_count": 4,
   "metadata": {},
   "outputs": [],
   "source": [
    "import numpy as np\n",
    "from sklearn.datasets import load_iris\n",
    "from sklearn.model_selection import train_test_split\n",
    "from sklearn.metrics import classification_report\n",
    "# Load Dataset\n",
    "data = load_iris()\n",
    "x = data['data']\n",
    "y = data['target']\n",
    "x_train, x_test, y_train, y_test = train_test_split(x, y, test_size=0.2, train_size=0.8)"
   ]
  },
  {
   "cell_type": "code",
   "execution_count": 5,
   "metadata": {},
   "outputs": [],
   "source": [
    "class Naive_Bayes:\n",
    "    def __init__(self, prior=\"Gaussian\") -> None:\n",
    "        self.prior = prior\n",
    "\n",
    "    def fit(self, X, y):\n",
    "        m, n = X.shape\n",
    "        self.X = X\n",
    "        self.y = y\n",
    "        self.table = self.separate_by_class(X,y)\n",
    "        self.statistics={}\n",
    "        if self.prior == 'Gaussian':\n",
    "            for key, value in self.table.items():\n",
    "                mean = np.mean(value, axis=0)\n",
    "                std_dev = np.std(value, axis=0)\n",
    "                self.statistics[key] = {\n",
    "                    'mean': mean,\n",
    "                    'std_dev': std_dev\n",
    "                }\n",
    "    \n",
    "    def calculate_probability(self, X, mean, std_dev):\n",
    "        # calculate probability of P(X|y)\n",
    "        # return value \n",
    "        return np.log((1/(np.sqrt(2*np.pi)*std_dev))*np.exp(-((X-mean)**2)/(2*std_dev**2)))\n",
    "    \n",
    "    def predict(self,X):\n",
    "        # calculate probability of each class\n",
    "        class_sum = [len(value) for _ ,value in self.table.items()]\n",
    "        class_prob = class_sum/np.sum(class_sum)\n",
    "        # calculate posterior probability\n",
    "        class_probabilities = []\n",
    "        for key in range(len(self.statistics)):\n",
    "            value = self.statistics[key]\n",
    "            mean = value[\"mean\"]\n",
    "            std_dev = value[\"std_dev\"]\n",
    "            log_probabilities = self.calculate_probability(X, mean, std_dev)\n",
    "            class_probabilities.append(log_probabilities)\n",
    "        # extract \n",
    "        for index, prob in enumerate(class_probabilities):\n",
    "            class_probabilities[index] = np.sum(prob, axis=1)+np.log(class_prob[index])\n",
    "        labels = np.argmax(class_probabilities, axis=0)\n",
    "        return labels\n",
    "\n",
    "    def separate_by_class(self,X,y):\n",
    "        separated = dict()\n",
    "        for i in range(len(X)):\n",
    "            feature = X[i]\n",
    "            target = y[i]\n",
    "            if target not in separated:\n",
    "                separated[target] = []\n",
    "            separated[target].append(feature)\n",
    "        return separated"
   ]
  },
  {
   "cell_type": "code",
   "execution_count": 6,
   "metadata": {},
   "outputs": [
    {
     "name": "stdout",
     "output_type": "stream",
     "text": [
      "              precision    recall  f1-score   support\n",
      "\n",
      "           0       1.00      1.00      1.00        13\n",
      "           1       1.00      0.89      0.94         9\n",
      "           2       0.89      1.00      0.94         8\n",
      "\n",
      "    accuracy                           0.97        30\n",
      "   macro avg       0.96      0.96      0.96        30\n",
      "weighted avg       0.97      0.97      0.97        30\n",
      "\n"
     ]
    }
   ],
   "source": [
    "model = Naive_Bayes()\n",
    "model.fit(x_train,y_train)\n",
    "out = model.predict(x_test)\n",
    "print(classification_report(out, y_test))"
   ]
  },
  {
   "cell_type": "code",
   "execution_count": 7,
   "metadata": {},
   "outputs": [
    {
     "name": "stdout",
     "output_type": "stream",
     "text": [
      "              precision    recall  f1-score   support\n",
      "\n",
      "           0       1.00      1.00      1.00        13\n",
      "           1       0.89      1.00      0.94         8\n",
      "           2       1.00      0.89      0.94         9\n",
      "\n",
      "    accuracy                           0.97        30\n",
      "   macro avg       0.96      0.96      0.96        30\n",
      "weighted avg       0.97      0.97      0.97        30\n",
      "\n"
     ]
    }
   ],
   "source": [
    "from sklearn.naive_bayes import GaussianNB\n",
    "\n",
    "\n",
    "model = GaussianNB()\n",
    "model.fit(x_train,y_train)\n",
    "out = model.predict(x_test)\n",
    "print(classification_report(y_test, out))"
   ]
  }
 ],
 "metadata": {
  "kernelspec": {
   "display_name": "base",
   "language": "python",
   "name": "python3"
  },
  "language_info": {
   "codemirror_mode": {
    "name": "ipython",
    "version": 3
   },
   "file_extension": ".py",
   "mimetype": "text/x-python",
   "name": "python",
   "nbconvert_exporter": "python",
   "pygments_lexer": "ipython3",
   "version": "3.11.5"
  }
 },
 "nbformat": 4,
 "nbformat_minor": 2
}
